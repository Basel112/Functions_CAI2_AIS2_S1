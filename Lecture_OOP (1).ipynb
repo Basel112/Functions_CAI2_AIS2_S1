{
 "cells": [
  {
   "cell_type": "code",
   "execution_count": 1,
   "id": "352589c8",
   "metadata": {
    "ExecuteTime": {
     "end_time": "2024-11-15T14:30:13.245757Z",
     "start_time": "2024-11-15T14:30:13.195245Z"
    }
   },
   "outputs": [],
   "source": [
    "class students:\n",
    "    def __init__(self,Name,Id,Age):\n",
    "        \n",
    "        self.Name=Name\n",
    "        self.Id= Id\n",
    "        self.Age=Age\n",
    "        \n",
    "    def study (self,Time):\n",
    "        \n",
    "        return f\"the time take to study {self.Time}\"\n",
    "    \n",
    "    def display_info(self):\n",
    "        return f\"Name: {self.Name} , ID: {self.Id} , Age: {self.Age}\""
   ]
  },
  {
   "cell_type": "code",
   "execution_count": 2,
   "id": "e68dc17a",
   "metadata": {
    "ExecuteTime": {
     "end_time": "2024-11-15T14:30:13.350742Z",
     "start_time": "2024-11-15T14:30:13.321485Z"
    }
   },
   "outputs": [],
   "source": [
    "student1 = students(\"basel wael\",20210215,22)"
   ]
  },
  {
   "cell_type": "code",
   "execution_count": 3,
   "id": "1bfe5a82",
   "metadata": {
    "ExecuteTime": {
     "end_time": "2024-11-15T14:30:13.430534Z",
     "start_time": "2024-11-15T14:30:13.379069Z"
    }
   },
   "outputs": [
    {
     "data": {
      "text/plain": [
       "'Name: basel wael , ID: 20210215 , Age: 22'"
      ]
     },
     "execution_count": 3,
     "metadata": {},
     "output_type": "execute_result"
    }
   ],
   "source": [
    "student1.display_info()"
   ]
  },
  {
   "cell_type": "markdown",
   "id": "37cda391",
   "metadata": {},
   "source": [
    "# Simple Calulator Class"
   ]
  },
  {
   "cell_type": "code",
   "execution_count": 9,
   "id": "4f45b8dc",
   "metadata": {
    "ExecuteTime": {
     "end_time": "2024-11-15T14:32:53.821962Z",
     "start_time": "2024-11-15T14:32:53.786308Z"
    }
   },
   "outputs": [],
   "source": [
    "class Calc:\n",
    "    def __init__(self,Num1,Num2):\n",
    "        \n",
    "        self.Num1= Num1\n",
    "        self.Num2=Num2\n",
    "     \n",
    "    def Sum(self):\n",
    "        result = self.Num1 + self.Num2\n",
    "        return  f\" the result of {self.Num1}+{self.Num2} = {result}\"\n",
    "    \n",
    "    def Subtract(self):\n",
    "        result = self.Num1 - self.Num2\n",
    "        return  f\" the result of {self.Num1}-{self.Num2} = {result}\"\n",
    "    \n",
    "    def Multiplcation(self):\n",
    "        result = self.Num1 * self.Num2\n",
    "        return  f\" the result of {self.Num1}*{self.Num2} = {result}\"\n",
    "    \n",
    "    def Divid(self, Num2):\n",
    "        if Num2!=0:\n",
    "            result = self.Num1 / self.Num2\n",
    "        return  f\" the result of {self.Num1}/{self.Num2} = {result}\"\n",
    "    \n",
    "    def modulas(self, Num2):\n",
    "        if Num2 !=0:\n",
    "            result = self.Num1 % self.Num2\n",
    "        return  f\" the result of {self.Num1}%{self.Num2} = {result}\"\n",
    "    "
   ]
  },
  {
   "cell_type": "code",
   "execution_count": 11,
   "id": "2c6c5458",
   "metadata": {
    "ExecuteTime": {
     "end_time": "2024-11-15T14:33:00.217960Z",
     "start_time": "2024-11-15T14:33:00.181218Z"
    }
   },
   "outputs": [
    {
     "data": {
      "text/plain": [
       "' the result of 1/2 = 0.5'"
      ]
     },
     "execution_count": 11,
     "metadata": {},
     "output_type": "execute_result"
    }
   ],
   "source": [
    "summution = Calc(1,2)\n",
    "\n",
    "summution.Divid(2)"
   ]
  },
  {
   "cell_type": "markdown",
   "id": "f8fdcbb1",
   "metadata": {},
   "source": [
    "# Creating a Student Management System"
   ]
  },
  {
   "cell_type": "code",
   "execution_count": 1,
   "id": "c40c45e3",
   "metadata": {
    "ExecuteTime": {
     "end_time": "2024-11-17T17:51:21.046541Z",
     "start_time": "2024-11-17T17:51:20.594911Z"
    }
   },
   "outputs": [],
   "source": [
    "class Student:\n",
    "    def __init__(self, name):\n",
    "        self.name = name\n",
    "        self.courses = []\n",
    "\n",
    "    def enroll(self, course):\n",
    "        if course not in self.courses:\n",
    "            self.courses.append(course)\n",
    "            print(f\"{self.name} enrolled in {course.name}.\")\n",
    "        else:\n",
    "            print(f\"{self.name} is already enrolled in {course.name}.\")\n",
    "\n",
    "    def drop(self, course):\n",
    "        if course in self.courses:\n",
    "            self.courses.remove(course)\n",
    "            print(f\"{self.name} dropped {course.name}.\")\n",
    "        else:\n",
    "            print(f\"{self.name} is not enrolled in {course.name}.\")\n",
    "\n",
    "    def __str__(self):\n",
    "        return f\"Student: {self.name}, Enrolled Courses: {[course.name for course in self.courses]}\"\n",
    "\n",
    "\n",
    "class Course:\n",
    "    def __init__(self, name):\n",
    "        self.name = name\n",
    "        self.students = []\n",
    "\n",
    "    def add_student(self, student):\n",
    "        if student not in self.students:\n",
    "            self.students.append(student)\n",
    "            print(f\"Added {student.name} to {self.name}.\")\n",
    "        else:\n",
    "            print(f\"{student.name} is already in {self.name}.\")\n",
    "\n",
    "    def remove_student(self, student):\n",
    "        if student in self.students:\n",
    "            self.students.remove(student)\n",
    "            print(f\"Removed {student.name} from {self.name}.\")\n",
    "        else:\n",
    "            print(f\"{student.name} is not in {self.name}.\")\n",
    "\n",
    "    def __str__(self):\n",
    "        return f\"Course: {self.name}, Enrolled Students: {[student.name for student in self.students]}\"\n",
    "\n",
    "\n",
    "class StudentManagementSystem:\n",
    "    def __init__(self):\n",
    "        self.students = []\n",
    "        self.courses = []\n",
    "\n",
    "    def add_student(self, student):\n",
    "        self.students.append(student)\n",
    "        print(f\"Added student: {student.name}.\")\n",
    "\n",
    "    def add_course(self, course):\n",
    "        self.courses.append(course)\n",
    "        print(f\"Added course: {course.name}.\")\n",
    "\n",
    "    def enroll_student_in_course(self, student_name, course_name):\n",
    "        student = next((s for s in self.students if s.name == student_name), None)\n",
    "        course = next((c for c in self.courses if c.name == course_name), None)\n",
    "\n",
    "        if not student:\n",
    "            print(f\"Student {student_name} not found.\")\n",
    "            return\n",
    "        if not course:\n",
    "            print(f\"Course {course_name} not found.\")\n",
    "            return\n",
    "\n",
    "        student.enroll(course)\n",
    "        course.add_student(student)\n",
    "\n",
    "    def drop_student_from_course(self, student_name, course_name):\n",
    "        student = next((s for s in self.students if s.name == student_name), None)\n",
    "        course = next((c for c in self.courses if c.name == course_name), None)\n",
    "\n",
    "        if not student:\n",
    "            print(f\"Student {student_name} not found.\")\n",
    "            return\n",
    "        if not course:\n",
    "            print(f\"Course {course_name} not found.\")\n",
    "            return\n",
    "\n",
    "        student.drop(course)\n",
    "        course.remove_student(student)\n",
    "\n",
    "    def show_students(self):\n",
    "        print(\"Students:\")\n",
    "        for student in self.students:\n",
    "            print(student)\n",
    "\n",
    "    def show_courses(self):\n",
    "        print(\"Courses:\")\n",
    "        for course in self.courses:\n",
    "            print(course)"
   ]
  },
  {
   "cell_type": "code",
   "execution_count": null,
   "id": "ec9f2d1d",
   "metadata": {},
   "outputs": [],
   "source": []
  },
  {
   "cell_type": "markdown",
   "id": "5d0e981f",
   "metadata": {},
   "source": [
    "# Modeling A Bank Account"
   ]
  },
  {
   "cell_type": "code",
   "execution_count": 21,
   "id": "4e31dcab",
   "metadata": {
    "ExecuteTime": {
     "end_time": "2024-11-15T14:53:50.278352Z",
     "start_time": "2024-11-15T14:53:50.245946Z"
    }
   },
   "outputs": [],
   "source": [
    "class BankAccount:\n",
    "    def __init__(self,AccountName,AccountNumber,Initial_balance=0):\n",
    "        \n",
    "        self.AcountName=AccountName\n",
    "        self.AccountNumber=AccountNumber\n",
    "        self.balance=Initial_balance\n",
    "        \n",
    "    def deposit(self,amount):\n",
    "        if amount >0:\n",
    "            self.balance+=amount\n",
    "            print(f\"Deposit: {amount} successfully.\")\n",
    "        else:\n",
    "            print(\"Invalid Deposit Amount\")\n",
    "            \n",
    "    def WithDraw(self,amount):\n",
    "        if amount >self.balance:\n",
    "            print(\"Your Are So Poor :(\")\n",
    "        \n",
    "        elif amount <=0:\n",
    "            print(\"Invalid WithDraw\")\n",
    "            \n",
    "        else:\n",
    "            self.balance -= amount\n",
    "            print(print(f\"Withdraw: {amount} successfully.\"))\n",
    "      \n",
    "    def CurrentBalance(self):\n",
    "        print(f\"Your Current Balance Is {self.balance}\")\n",
    "    \n",
    "    \n",
    "    \n",
    "    def Details(self):\n",
    "        print(f\"Account Name : {self.AcountName}\")\n",
    "        print(f\"Account Number : {self.AccountNumber}\")\n",
    "        \n",
    "            "
   ]
  },
  {
   "cell_type": "code",
   "execution_count": 22,
   "id": "7ab108be",
   "metadata": {
    "ExecuteTime": {
     "end_time": "2024-11-15T14:53:52.744997Z",
     "start_time": "2024-11-15T14:53:52.714274Z"
    }
   },
   "outputs": [],
   "source": [
    "newBanckAccount = BankAccount(\"basel wael samir\", 20210215555532543,1000)\n"
   ]
  },
  {
   "cell_type": "code",
   "execution_count": 23,
   "id": "e46b2cf6",
   "metadata": {
    "ExecuteTime": {
     "end_time": "2024-11-15T14:53:54.181715Z",
     "start_time": "2024-11-15T14:53:54.166423Z"
    }
   },
   "outputs": [
    {
     "name": "stdout",
     "output_type": "stream",
     "text": [
      "Deposit: 200 successfully.\n"
     ]
    }
   ],
   "source": [
    "newBanckAccount.deposit(200)"
   ]
  },
  {
   "cell_type": "code",
   "execution_count": 24,
   "id": "70d12bf0",
   "metadata": {
    "ExecuteTime": {
     "end_time": "2024-11-15T14:53:55.825028Z",
     "start_time": "2024-11-15T14:53:55.791924Z"
    }
   },
   "outputs": [
    {
     "name": "stdout",
     "output_type": "stream",
     "text": [
      "Your Current Balance Is 1200\n"
     ]
    }
   ],
   "source": [
    "newBanckAccount.CurrentBalance()"
   ]
  },
  {
   "cell_type": "code",
   "execution_count": 25,
   "id": "80530708",
   "metadata": {
    "ExecuteTime": {
     "end_time": "2024-11-15T14:53:57.455514Z",
     "start_time": "2024-11-15T14:53:57.441126Z"
    }
   },
   "outputs": [
    {
     "name": "stdout",
     "output_type": "stream",
     "text": [
      "Your Are So Poor :(\n"
     ]
    }
   ],
   "source": [
    "newBanckAccount.WithDraw(1500)"
   ]
  },
  {
   "cell_type": "markdown",
   "id": "33d0550d",
   "metadata": {},
   "source": [
    "# Libarary System"
   ]
  },
  {
   "cell_type": "code",
   "execution_count": 1,
   "id": "d25c9010",
   "metadata": {
    "ExecuteTime": {
     "end_time": "2024-11-18T15:24:33.056129Z",
     "start_time": "2024-11-18T15:24:32.887333Z"
    }
   },
   "outputs": [],
   "source": [
    "class Book:\n",
    "    def __init__(self, title, author, isbn, copies):\n",
    "        self.title = title\n",
    "        self.author = author\n",
    "        self.isbn = isbn\n",
    "        self.copies = copies\n",
    "    \n",
    "    def __str__(self):\n",
    "        return f\"'{self.title}' by {self.author} (ISBN: {self.isbn}) - {self.copies} copies available\"\n",
    "\n",
    "\n",
    "class User:\n",
    "    def __init__(self, username, user_id):\n",
    "        self.username = username\n",
    "        self.user_id = user_id\n",
    "        self.borrowed_books = []\n",
    "    \n",
    "    def borrow_book(self, book):\n",
    "        if book.copies > 0:\n",
    "            book.copies -= 1\n",
    "            self.borrowed_books.append(book)\n",
    "            print(f\"{self.username} has borrowed '{book.title}'\")\n",
    "        else:\n",
    "            print(f\"Sorry, no copies of '{book.title}' are available right now.\")\n",
    "    \n",
    "    def return_book(self, book):\n",
    "        if book in self.borrowed_books:\n",
    "            book.copies += 1\n",
    "            self.borrowed_books.remove(book)\n",
    "            print(f\"{self.username} has returned '{book.title}'\")\n",
    "        else:\n",
    "            print(f\"{self.username} cannot return a book they haven't borrowed.\")\n",
    "    \n",
    "    def view_borrowed_books(self):\n",
    "        if self.borrowed_books:\n",
    "            print(f\"{self.username} has borrowed the following books:\")\n",
    "            for book in self.borrowed_books:\n",
    "                print(f\"- {book.title} by {book.author}\")\n",
    "        else:\n",
    "            print(f\"{self.username} has no borrowed books.\")\n",
    "\n",
    "\n",
    "class Library:\n",
    "    def __init__(self):\n",
    "        self.books = []\n",
    "        self.users = []\n",
    "    \n",
    "    def add_book(self, book):\n",
    "        self.books.append(book)\n",
    "        print(f\"Book '{book.title}' added to the library.\")\n",
    "    \n",
    "    def add_user(self, user):\n",
    "        self.users.append(user)\n",
    "        print(f\"User '{user.username}' added to the library system.\")\n",
    "    \n",
    "    def list_books(self):\n",
    "        if self.books:\n",
    "            print(\"Books available in the library:\")\n",
    "            for book in self.books:\n",
    "                print(book)\n",
    "        else:\n",
    "            print(\"No books available in the library.\")\n",
    "    \n",
    "    def search_book(self, title):\n",
    "        found_books = [book for book in self.books if title.lower() in book.title.lower()]\n",
    "        if found_books:\n",
    "            print(\"Found the following books:\")\n",
    "            for book in found_books:\n",
    "                print(book)\n",
    "        else:\n",
    "            print(f\"No books found with title containing '{title}'.\")"
   ]
  },
  {
   "cell_type": "code",
   "execution_count": 2,
   "id": "f2ddfd35",
   "metadata": {
    "ExecuteTime": {
     "end_time": "2024-11-18T15:24:45.013368Z",
     "start_time": "2024-11-18T15:24:44.990475Z"
    }
   },
   "outputs": [
    {
     "name": "stdout",
     "output_type": "stream",
     "text": [
      "Book 'The Great Gatsby' added to the library.\n",
      "Book '1984' added to the library.\n",
      "User 'JohnDoe' added to the library system.\n",
      "Books available in the library:\n",
      "'The Great Gatsby' by F. Scott Fitzgerald (ISBN: 9780743273565) - 3 copies available\n",
      "'1984' by George Orwell (ISBN: 9780451524935) - 2 copies available\n",
      "JohnDoe has borrowed 'The Great Gatsby'\n",
      "JohnDoe has borrowed 'The Great Gatsby'\n",
      "JohnDoe has borrowed the following books:\n",
      "- The Great Gatsby by F. Scott Fitzgerald\n",
      "- The Great Gatsby by F. Scott Fitzgerald\n",
      "JohnDoe has returned 'The Great Gatsby'\n",
      "JohnDoe cannot return a book they haven't borrowed.\n",
      "Found the following books:\n",
      "'1984' by George Orwell (ISBN: 9780451524935) - 2 copies available\n"
     ]
    }
   ],
   "source": [
    "library = Library()\n",
    "\n",
    "\n",
    "book1 = Book(\"The Great Gatsby\", \"F. Scott Fitzgerald\", \"9780743273565\", 3)\n",
    "book2 = Book(\"1984\", \"George Orwell\", \"9780451524935\", 2)\n",
    "library.add_book(book1)\n",
    "library.add_book(book2)\n",
    "\n",
    "user1 = User(\"JohnDoe\", \"U001\")\n",
    "\n",
    "library.add_user(user1)\n",
    "\n",
    "library.list_books()\n",
    "\n",
    "\n",
    "user1.borrow_book(book1)\n",
    "\n",
    "\n",
    "user1.borrow_book(book1)\n",
    "\n",
    "user1.view_borrowed_books()\n",
    "\n",
    "\n",
    "user1.return_book(book1)\n",
    "\n",
    "\n",
    "user1.return_book(book2)\n",
    "\n",
    "\n",
    "library.search_book(\"1984\")"
   ]
  },
  {
   "cell_type": "markdown",
   "id": "b3bb16ad",
   "metadata": {},
   "source": [
    "# Simple Temperature Converter"
   ]
  },
  {
   "cell_type": "code",
   "execution_count": 8,
   "id": "297039f4",
   "metadata": {
    "ExecuteTime": {
     "end_time": "2024-11-18T15:52:44.105079Z",
     "start_time": "2024-11-18T15:52:44.079649Z"
    }
   },
   "outputs": [],
   "source": [
    "class TemperatureConverter:\n",
    "    def __init__(self, value):\n",
    "        self.value = value\n",
    "\n",
    "    def to_celsius(self):\n",
    "        return (self.value - 32) * 5/9 if self.unit == \"F\" else self.value - 273.15 if self.unit == \"K\" else self.value\n",
    "\n",
    "    def to_fahrenheit(self):\n",
    "        return (self.value * 9/5) + 32 if self.unit == \"C\" else (self.value - 273.15) * 9/5 + 32 if self.unit == \"K\" else self.value\n",
    "\n",
    "    def to_kelvin(self):\n",
    "        return self.value + 273.15 if self.unit == \"C\" else (self.value - 32) * 5/9 + 273.15 if self.unit == \"F\" else self.value\n",
    "\n",
    "\n",
    "class TemperatureInput:\n",
    "    def __init__(self, temperature, unit):\n",
    "        self.converter = TemperatureConverter(temperature)\n",
    "        self.unit = unit\n",
    "\n",
    "    def convert(self, target_unit):\n",
    "        if target_unit == \"C\":\n",
    "            return self.converter.to_celsius()\n",
    "        elif target_unit == \"F\":\n",
    "            return self.converter.to_fahrenheit()\n",
    "        elif target_unit == \"K\":\n",
    "            return self.converter.to_kelvin()\n",
    "        else:\n",
    "            return \"Invalid target unit\""
   ]
  },
  {
   "cell_type": "markdown",
   "id": "2e627146",
   "metadata": {},
   "source": [
    "# Modeling a Car Rental System"
   ]
  },
  {
   "cell_type": "code",
   "execution_count": 9,
   "id": "30d0fbf2",
   "metadata": {
    "ExecuteTime": {
     "end_time": "2024-11-18T15:53:49.852503Z",
     "start_time": "2024-11-18T15:53:49.828791Z"
    }
   },
   "outputs": [],
   "source": [
    "class CarRentalSystem:\n",
    "    def __init__(self):\n",
    "        self.cars = []  \n",
    "        self.customers = [] \n",
    "    \n",
    "    def add_car(self, car):\n",
    "        self.cars.append(car)\n",
    "        print(f\"Added car {car.model} to the system.\")\n",
    "    \n",
    "    def add_customer(self, customer):\n",
    "        self.customers.append(customer)\n",
    "        print(f\"Added customer {customer.name} to the system.\")\n",
    "    \n",
    "    def list_available_cars(self):\n",
    "        available_cars = [car for car in self.cars if car.is_available]\n",
    "        if available_cars:\n",
    "            print(\"Available cars for rent:\")\n",
    "            for car in available_cars:\n",
    "                print(car)\n",
    "        else:\n",
    "            print(\"No cars are currently available for rent.\")\n",
    "    \n",
    "    def rent_car_to_customer(self, customer, car_id, days):\n",
    "        car = next((car for car in self.cars if car.car_id == car_id), None)\n",
    "        if car:\n",
    "            customer.rent_car(car, days)\n",
    "        else:\n",
    "            print(f\"No car found with ID {car_id}.\")"
   ]
  },
  {
   "cell_type": "markdown",
   "id": "0fc8706e",
   "metadata": {},
   "source": [
    "# Simple Voting System"
   ]
  },
  {
   "cell_type": "code",
   "execution_count": null,
   "id": "06f4273a",
   "metadata": {},
   "outputs": [],
   "source": [
    "class Candidate:\n",
    "    def __init__(self, name):\n",
    "        self.name = name\n",
    "        self.votes = 0  # Number of votes the candidate has received\n",
    "    \n",
    "    def add_vote(self):\n",
    "        self.votes += 1\n",
    "    \n",
    "    def __str__(self):\n",
    "        return f\"{self.name}: {self.votes} vote(s)\"\n",
    "\n",
    "\n",
    "class VotingSystem:\n",
    "    def __init__(self):\n",
    "        self.candidates = []  # List of candidates\n",
    "        self.voters = set()  # Set to track voters and prevent double voting\n",
    "    \n",
    "    def add_candidate(self, candidate):\n",
    "        self.candidates.append(candidate)\n",
    "    \n",
    "    def vote(self, voter_id, candidate_name):\n",
    "        if voter_id in self.voters:\n",
    "            print(f\"Voter {voter_id} has already voted.\")\n",
    "        else:\n",
    "            candidate = next((c for c in self.candidates if c.name == candidate_name), None)\n",
    "            if candidate:\n",
    "                candidate.add_vote()\n",
    "                self.voters.add(voter_id)\n",
    "                print(f\"Voter {voter_id} voted for {candidate_name}.\")\n",
    "            else:\n",
    "                print(f\"Candidate {candidate_name} not found.\")\n",
    "    \n",
    "    def show_results(self):\n",
    "        print(\"\\nVoting Results:\")\n",
    "        for candidate in self.candidates:\n",
    "            print(candidate)"
   ]
  },
  {
   "cell_type": "markdown",
   "id": "e1d5e4af",
   "metadata": {},
   "source": [
    "# Managing a Simple Inventory System"
   ]
  },
  {
   "cell_type": "code",
   "execution_count": 10,
   "id": "0b7441dc",
   "metadata": {
    "ExecuteTime": {
     "end_time": "2024-11-18T15:56:10.834834Z",
     "start_time": "2024-11-18T15:56:10.809351Z"
    }
   },
   "outputs": [],
   "source": [
    "class Product:\n",
    "    def __init__(self, product_id, name, price, quantity):\n",
    "        self.product_id = product_id\n",
    "        self.name = name\n",
    "        self.price = price\n",
    "        self.quantity = quantity\n",
    "    \n",
    "    def update_quantity(self, quantity):\n",
    "        self.quantity += quantity\n",
    "        print(f\"Updated {self.name} quantity to {self.quantity}.\")\n",
    "    \n",
    "    def __str__(self):\n",
    "        return f\"ID: {self.product_id}, Name: {self.name}, Price: ${self.price}, Quantity: {self.quantity}\"\n",
    "\n",
    "\n",
    "class Inventory:\n",
    "    def __init__(self):\n",
    "        self.products = {}  # A dictionary to store products by product_id\n",
    "    \n",
    "    def add_product(self, product):\n",
    "        if product.product_id in self.products:\n",
    "            print(f\"Product {product.name} already exists. Updating the quantity.\")\n",
    "            self.products[product.product_id].update_quantity(product.quantity)\n",
    "        else:\n",
    "            self.products[product.product_id] = product\n",
    "            print(f\"Product {product.name} added to the inventory.\")\n",
    "    \n",
    "    def remove_product(self, product_id):\n",
    "        if product_id in self.products:\n",
    "            del self.products[product_id]\n",
    "            print(f\"Product with ID {product_id} removed from the inventory.\")\n",
    "        else:\n",
    "            print(f\"Product with ID {product_id} not found in the inventory.\")\n",
    "    \n",
    "    def update_product_quantity(self, product_id, quantity):\n",
    "        if product_id in self.products:\n",
    "            self.products[product_id].update_quantity(quantity)\n",
    "        else:\n",
    "            print(f\"Product with ID {product_id} not found.\")\n",
    "    \n",
    "    def view_inventory(self):\n",
    "        if self.products:\n",
    "            print(\"\\nInventory List:\")\n",
    "            for product in self.products.values():\n",
    "                print(product)\n",
    "        else:\n",
    "            print(\"No products in the inventory.\")"
   ]
  },
  {
   "cell_type": "code",
   "execution_count": null,
   "id": "8ab3bb32",
   "metadata": {},
   "outputs": [],
   "source": []
  }
 ],
 "metadata": {
  "kernelspec": {
   "display_name": "Python 3 (ipykernel)",
   "language": "python",
   "name": "python3"
  },
  "language_info": {
   "codemirror_mode": {
    "name": "ipython",
    "version": 3
   },
   "file_extension": ".py",
   "mimetype": "text/x-python",
   "name": "python",
   "nbconvert_exporter": "python",
   "pygments_lexer": "ipython3",
   "version": "3.11.5"
  }
 },
 "nbformat": 4,
 "nbformat_minor": 5
}
