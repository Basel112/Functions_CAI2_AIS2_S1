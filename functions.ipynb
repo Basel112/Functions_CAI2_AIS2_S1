{
 "cells": [
  {
   "cell_type": "markdown",
   "metadata": {},
   "source": [
    "# Practice    \n",
    "# Enjoy^_^"
   ]
  },
  {
   "cell_type": "markdown",
   "metadata": {},
   "source": [
    "# 1. Python Flow Control"
   ]
  },
  {
   "cell_type": "markdown",
   "metadata": {},
   "source": [
    "## 1. Write a Python program to find those numbers which are divisible by 7 and multiples of 5, between 1500 and 2700 (both included). \n",
    "\n",
    "\n",
    "\n"
   ]
  },
  {
   "cell_type": "code",
   "execution_count": 4,
   "metadata": {
    "ExecuteTime": {
     "end_time": "2024-11-17T18:04:23.346694Z",
     "start_time": "2024-11-17T18:04:23.323048Z"
    }
   },
   "outputs": [
    {
     "name": "stdout",
     "output_type": "stream",
     "text": [
      "[1505, 1540, 1575, 1610, 1645, 1680, 1715, 1750, 1785, 1820, 1855, 1890, 1925, 1960, 1995, 2030, 2065, 2100, 2135, 2170, 2205, 2240, 2275, 2310, 2345, 2380, 2415, 2450, 2485, 2520, 2555, 2590, 2625, 2660, 2695]\n"
     ]
    }
   ],
   "source": [
    "def divisible_7_and_5(start,end):\n",
    "    result=[]\n",
    "    for i in range (start,end):\n",
    "        if i % 7 == 0 and i % 5 == 0:\n",
    "            result.append(i)\n",
    "            \n",
    "    return result\n",
    "\n",
    "start_range=1500\n",
    "end_range=2701\n",
    "number= divisible_7_and_5(start_range,end_range)\n",
    "print(number)\n",
    "    "
   ]
  },
  {
   "cell_type": "markdown",
   "metadata": {},
   "source": [
    "## 2. Write a Python program to guess a number between 1 and 9.\n",
    "Note : User is prompted to enter a guess. If the user guesses wrong then the prompt appears again until the guess is correct, on successful guess, user will get a \"Well guessed!\" message, and the program will exit."
   ]
  },
  {
   "cell_type": "code",
   "execution_count": 11,
   "metadata": {
    "ExecuteTime": {
     "end_time": "2024-11-17T18:14:04.550859Z",
     "start_time": "2024-11-17T18:13:56.681595Z"
    }
   },
   "outputs": [
    {
     "name": "stdout",
     "output_type": "stream",
     "text": [
      "Guess a number between 1 and 9: 1\n",
      "Try again!\n",
      "Guess a number between 1 and 9: 2\n",
      "Try again!\n",
      "Guess a number between 1 and 9: 3\n",
      "Try again!\n",
      "Guess a number between 1 and 9: 4\n",
      "Try again!\n",
      "Guess a number between 1 and 9: 5\n",
      "Try again!\n",
      "Guess a number between 1 and 9: 6\n",
      "Well guessed!\n"
     ]
    }
   ],
   "source": [
    "import random\n",
    "\n",
    "def guess_the_number():\n",
    "    \n",
    "    number_to_guess = random.randint(1,9)\n",
    "    \n",
    "    while True:\n",
    "        try:\n",
    "            \n",
    "            guess = int(input(\"Guess a number between 1 and 9: \"))\n",
    "            if guess < 1 or guess > 9:\n",
    "                \n",
    "                print(\"Please Guess a number between 1 and 9:\")\n",
    "\n",
    "            elif guess == number_to_guess:\n",
    "                    print(\"Well guessed!\")\n",
    "                    break\n",
    "\n",
    "            else:\n",
    "                \n",
    "                print(\"Try again!\")\n",
    "        except ValueError:\n",
    "            \n",
    "            print(\"Invalid input! Please enter a number between 1 and 9\")\n",
    "guess_the_number()            "
   ]
  },
  {
   "cell_type": "markdown",
   "metadata": {},
   "source": [
    "## 3. Write a Python program that prints all the numbers from 0 to 6 except 3 and 6.\n",
    "Note : Use 'continue' statement.\n",
    "Expected Output : 0 1 2 4 5 \n"
   ]
  },
  {
   "cell_type": "code",
   "execution_count": 20,
   "metadata": {
    "ExecuteTime": {
     "end_time": "2024-11-17T18:18:26.826564Z",
     "start_time": "2024-11-17T18:18:26.808908Z"
    }
   },
   "outputs": [
    {
     "name": "stdout",
     "output_type": "stream",
     "text": [
      "0 1 2 4 5 "
     ]
    }
   ],
   "source": [
    "def numbers_Except_3and6():\n",
    "    for i in range(0,6):\n",
    "        if i == 3 or i == 6:\n",
    "            continue\n",
    "        print(i,end=\" \")\n",
    "        \n",
    "numbers_Except_3and6()        "
   ]
  },
  {
   "cell_type": "markdown",
   "metadata": {},
   "source": [
    "## 4. Write a Python program to construct the following pattern, using a nested for loop.\n",
    "```\n",
    "* \n",
    "* * \n",
    "* * * \n",
    "* * * * \n",
    "* * * * * \n",
    "* * * * \n",
    "* * * \n",
    "* * \n",
    "*\n",
    "```"
   ]
  },
  {
   "cell_type": "code",
   "execution_count": null,
   "metadata": {},
   "outputs": [
    {
     "name": "stdout",
     "output_type": "stream",
     "text": [
      " \n",
      "*  \n",
      "* *  \n",
      "* * *  \n",
      "* * * *  \n",
      "* * * * *  \n",
      "* * * * * *  \n",
      "* * * * *  \n",
      "* * * *  \n",
      "* * *  \n",
      "* *  \n",
      "*  \n"
     ]
    }
   ],
   "source": []
  },
  {
   "cell_type": "code",
   "execution_count": null,
   "metadata": {},
   "outputs": [
    {
     "name": "stdout",
     "output_type": "stream",
     "text": [
      "         * \n",
      "        * * \n",
      "       * * * \n",
      "      * * * * \n",
      "     * * * * * \n",
      "    * * * * * * \n",
      "  * * * * * * * * \n",
      "   * * * * * * * \n",
      "    * * * * * * \n",
      "     * * * * * \n",
      "      * * * * \n",
      "       * * * \n",
      "        * * \n"
     ]
    }
   ],
   "source": []
  },
  {
   "cell_type": "markdown",
   "metadata": {},
   "source": [
    "## 5. Write a Python program that accepts a word from the user and reverses it. \n",
    "\n"
   ]
  },
  {
   "cell_type": "code",
   "execution_count": 10,
   "metadata": {
    "ExecuteTime": {
     "end_time": "2024-11-17T19:36:45.796886Z",
     "start_time": "2024-11-17T19:36:41.109907Z"
    }
   },
   "outputs": [
    {
     "name": "stdout",
     "output_type": "stream",
     "text": [
      "Enter a word: hello\n"
     ]
    },
    {
     "data": {
      "text/plain": [
       "'olleh'"
      ]
     },
     "execution_count": 10,
     "metadata": {},
     "output_type": "execute_result"
    }
   ],
   "source": [
    "def reverse_word(string):\n",
    "    return string[::-1]\n",
    "\n",
    "user_word = input(\"Enter a word: \")\n",
    "\n",
    "reverse_word(user_word)\n",
    "    \n",
    "    \n",
    "        "
   ]
  },
  {
   "cell_type": "markdown",
   "metadata": {},
   "source": [
    "## 6. Write a Python program to count the number of even and odd numbers in a series of numbers\n",
    "Sample numbers : numbers = (1, 2, 3, 4, 5, 6, 7, 8, 9) \n",
    "\n",
    "Expected Output :\n",
    "\n",
    "Number of even numbers : 4\n",
    "\n",
    "Number of odd numbers : 5"
   ]
  },
  {
   "cell_type": "code",
   "execution_count": 17,
   "metadata": {
    "ExecuteTime": {
     "end_time": "2024-11-17T19:50:01.396932Z",
     "start_time": "2024-11-17T19:49:50.278544Z"
    }
   },
   "outputs": [
    {
     "name": "stdout",
     "output_type": "stream",
     "text": [
      "Enter a series of numbers separated by spaces: 2 4 6 8 10 1 3 5\n",
      "Even numbers count: 5\n",
      "Odd numbers count: 3\n"
     ]
    }
   ],
   "source": [
    "def Count_Even_odd(numbers):\n",
    "    countEven=0\n",
    "    countOdd=0\n",
    "    \n",
    "    for num in numbers:\n",
    "        if num %2==0:\n",
    "            countEven +=1\n",
    "        \n",
    "        else:\n",
    "            countOdd+=1\n",
    "            \n",
    "    return countEven , countOdd\n",
    "\n",
    "\n",
    "numbers = set(map(int, input(\"Enter a series of numbers separated by spaces: \").split()))\n",
    "\n",
    "countEven, countOdd = Count_Even_odd(numbers)\n",
    "\n",
    "print(f\"Even numbers count: {countEven}\")\n",
    "print(f\"Odd numbers count: {countOdd}\")"
   ]
  },
  {
   "cell_type": "markdown",
   "metadata": {},
   "source": [
    "## 7. Write a Python program to print the the first alphabet pattern 'A-Z' in your name .\n",
    "for example  Expected Output:\n",
    "\n",
    "\n",
    "```\n",
    "  ***                                                                   \n",
    " *   *                                                                  \n",
    " *   *                                                                  \n",
    " *****                                                                  \n",
    " *   *                                                                  \n",
    " *   *                                                                  \n",
    " *   *\n",
    "```"
   ]
  },
  {
   "cell_type": "code",
   "execution_count": null,
   "metadata": {},
   "outputs": [],
   "source": []
  },
  {
   "cell_type": "markdown",
   "metadata": {},
   "source": [
    "## 8.  Write a Python program to construct the following pattern, using a nested loop number.\n",
    "Expected Output:\n",
    "\n",
    "\n",
    "``\n",
    "1\n",
    "22\n",
    "333\n",
    "4444\n",
    "55555\n",
    "666666\n",
    "7777777\n",
    "88888888\n",
    "999999999\n",
    "``"
   ]
  },
  {
   "cell_type": "code",
   "execution_count": 18,
   "metadata": {
    "ExecuteTime": {
     "end_time": "2024-11-17T19:50:19.681114Z",
     "start_time": "2024-11-17T19:50:19.657442Z"
    }
   },
   "outputs": [
    {
     "name": "stdout",
     "output_type": "stream",
     "text": [
      "1 22 333 4444 55555 666666 7777777 88888888 999999999 "
     ]
    }
   ],
   "source": [
    "def print_pattern():\n",
    "    for i in range(1,10):\n",
    "        for j in range(i):\n",
    "            print(i, end=\"\") \n",
    "        print(end=\" \")\n",
    "     \n",
    "        \n",
    "print_pattern()        \n",
    "        "
   ]
  },
  {
   "cell_type": "markdown",
   "metadata": {},
   "source": [
    "## 9. Write a Python program to create the multiplication table (from 1 to 10) of a number.\n",
    "Expected Output:\n",
    "\n",
    "Input a number: 6                                                       \n",
    "6 x 1 = 6                                                               \n",
    "6 x 2 = 12                                                              \n",
    "6 x 3 = 18                                                              \n",
    "6 x 4 = 24                                                              \n",
    "6 x 5 = 30                                                              \n",
    "6 x 6 = 36                                                              \n",
    "6 x 7 = 42                                                              \n",
    "6 x 8 = 48                                                              \n",
    "6 x 9 = 54                                                              \n",
    "6 x 10 = 60 \n"
   ]
  },
  {
   "cell_type": "code",
   "execution_count": 46,
   "metadata": {
    "ExecuteTime": {
     "end_time": "2024-11-17T18:47:46.515146Z",
     "start_time": "2024-11-17T18:47:46.498483Z"
    }
   },
   "outputs": [
    {
     "name": "stdout",
     "output_type": "stream",
     "text": [
      "5 x 1 = 5\n",
      "5 x 2 = 10\n",
      "5 x 3 = 15\n",
      "5 x 4 = 20\n",
      "5 x 5 = 25\n",
      "5 x 6 = 30\n",
      "5 x 7 = 35\n",
      "5 x 8 = 40\n",
      "5 x 9 = 45\n",
      "5 x 10 = 50\n"
     ]
    }
   ],
   "source": [
    "def multiplication(number):\n",
    "    for i in range(1,11):\n",
    "        print(f\"{number} x {i} = {number*i}\")\n",
    "        \n",
    "multiplication(5)        "
   ]
  },
  {
   "cell_type": "markdown",
   "metadata": {},
   "source": [
    "## 10. Write a Python program to calculate the sum and average of n integer numbers (input from the user). Input 0 to finish."
   ]
  },
  {
   "cell_type": "code",
   "execution_count": 1,
   "metadata": {
    "ExecuteTime": {
     "end_time": "2024-11-17T19:17:08.135772Z",
     "start_time": "2024-11-17T19:16:52.376432Z"
    }
   },
   "outputs": [
    {
     "name": "stdout",
     "output_type": "stream",
     "text": [
      "Enter a number (0 to finish):10\n",
      "Enter a number (0 to finish):15\n",
      "Enter a number (0 to finish):20\n",
      "Enter a number (0 to finish):0\n",
      "Sum: 45\n",
      "Average: 15.0\n"
     ]
    }
   ],
   "source": [
    "def calculate_sum_and_average():\n",
    "    total_sum = 0 \n",
    "    count = 0  \n",
    "\n",
    "    while True:\n",
    "        # Take input from the user\n",
    "        number = int(input(\"Enter a number (0 to finish):\"))\n",
    "        \n",
    "        if number == 0:  \n",
    "            break\n",
    "        \n",
    "        total_sum += number  \n",
    "        count += 1  \n",
    "\n",
    "    if count == 0: \n",
    "        print(\"No numbers were entered.\")\n",
    "    else:\n",
    "        average = total_sum / count  \n",
    "        print(f\"Sum: {total_sum}\")\n",
    "        print(f\"Average: {average}\")\n",
    "\n",
    "calculate_sum_and_average()\n"
   ]
  },
  {
   "attachments": {
    "image.png": {
     "image/png": "[encoded data removed]"
    }
   },
   "cell_type": "markdown",
   "metadata": {},
   "source": [
    "# 11-Python Program to Print the Fibonacci sequence\n",
    "\n",
    "The Fibonacci numbers are the numbers in the following integer sequence. 0, 1, 1, 2, 3, 5, 8, 13, 21, 34, 55, 89, 144, …….. In mathematical terms, the sequence Fn of Fibonacci numbers is defined by the recurrence relation.\n",
    "\n",
    "\n",
    "![image.png](attachment:image.png)"
   ]
  },
  {
   "cell_type": "code",
   "execution_count": 8,
   "metadata": {
    "ExecuteTime": {
     "end_time": "2024-11-17T19:22:34.803585Z",
     "start_time": "2024-11-17T19:22:34.780935Z"
    }
   },
   "outputs": [
    {
     "name": "stdout",
     "output_type": "stream",
     "text": [
      "Fibonacci sequence:\n",
      "0 1 1 2 3 5 8 13 21 34 55 89 144 233 377 "
     ]
    }
   ],
   "source": [
    "def fibonacci_sequence(n):\n",
    "    a, b = 0, 1  # Initializing the first two Fibonacci numbers\n",
    "    \n",
    "    print(\"Fibonacci sequence:\")\n",
    "    for _ in range(n):\n",
    "        print(a, end=\" \")  # Print the current number without a newline\n",
    "        a, b = b, a + b\n",
    "        \n",
    "fibonacci_sequence(15)        "
   ]
  },
  {
   "cell_type": "markdown",
   "metadata": {},
   "source": [
    "# Finding the Maximum Value in a List"
   ]
  },
  {
   "cell_type": "code",
   "execution_count": 26,
   "metadata": {
    "ExecuteTime": {
     "end_time": "2024-11-17T18:26:54.129042Z",
     "start_time": "2024-11-17T18:26:51.240634Z"
    }
   },
   "outputs": [
    {
     "name": "stdout",
     "output_type": "stream",
     "text": [
      "10\n",
      "20\n"
     ]
    },
    {
     "data": {
      "text/plain": [
       "19"
      ]
     },
     "execution_count": 26,
     "metadata": {},
     "output_type": "execute_result"
    }
   ],
   "source": [
    "def find_Max_Value_in_List(numbers):\n",
    "    max_value = numbers[0]\n",
    "    for num in numbers:\n",
    "        if num > max_value:\n",
    "            \n",
    "            max_value= num\n",
    "            \n",
    "    return max_value       \n",
    "\n",
    "number=[]\n",
    "Start_range= int(input())\n",
    "End_range= int(input())\n",
    "\n",
    "\n",
    "for i in range(Start_range,End_range):\n",
    "    \n",
    "    number.append(i)\n",
    "    \n",
    "find_Max_Value_in_List(number)\n"
   ]
  },
  {
   "cell_type": "markdown",
   "metadata": {},
   "source": [
    "# Counting Vowels in a String"
   ]
  },
  {
   "cell_type": "code",
   "execution_count": 30,
   "metadata": {
    "ExecuteTime": {
     "end_time": "2024-11-17T18:31:52.998596Z",
     "start_time": "2024-11-17T18:31:52.976749Z"
    }
   },
   "outputs": [
    {
     "data": {
      "text/plain": [
       "4"
      ]
     },
     "execution_count": 30,
     "metadata": {},
     "output_type": "execute_result"
    }
   ],
   "source": [
    "def Count_Vowels_in_string(string):\n",
    "    \n",
    "    vowels=\"aeiouAEIOU\"\n",
    "    count = 0\n",
    "    for char in string:\n",
    "        if char in vowels:\n",
    "            count +=1\n",
    "    return count\n",
    "\n",
    "input=\"baselwael\"\n",
    "Count_Vowels_in_string(input)\n"
   ]
  },
  {
   "cell_type": "markdown",
   "metadata": {},
   "source": [
    "# Finding Prime Numbers within a Range"
   ]
  },
  {
   "cell_type": "code",
   "execution_count": 19,
   "metadata": {
    "ExecuteTime": {
     "end_time": "2024-11-18T14:44:12.571641Z",
     "start_time": "2024-11-18T14:44:08.480119Z"
    }
   },
   "outputs": [
    {
     "name": "stdout",
     "output_type": "stream",
     "text": [
      "Enter the start of the range: 10\n",
      "Enter the end of the range: 30\n",
      "Prime numbers between 10 and 30: [11, 13, 17, 19, 23, 29]\n"
     ]
    }
   ],
   "source": [
    "def find_primes_in_range(start, end):\n",
    "    def is_prime(num):\n",
    "        if num < 2:\n",
    "            return False\n",
    "        for i in range(2, int(num**0.5) + 1):\n",
    "            if num % i == 0:\n",
    "                return False\n",
    "        return True\n",
    "\n",
    "    return [num for num in range(start, end + 1) if is_prime(num)]\n",
    "\n",
    "start_range = int(input(\"Enter the start of the range: \"))\n",
    "end_range = int(input(\"Enter the end of the range: \"))\n",
    "\n",
    "prime_numbers = find_primes_in_range(start_range, end_range)\n",
    "print(f\"Prime numbers between {start_range} and {end_range}: {prime_numbers}\")"
   ]
  },
  {
   "cell_type": "markdown",
   "metadata": {},
   "source": [
    "# A Program that Simulating a Basic ATM Withdrawal"
   ]
  },
  {
   "cell_type": "code",
   "execution_count": 16,
   "metadata": {
    "ExecuteTime": {
     "end_time": "2024-11-18T14:36:41.439544Z",
     "start_time": "2024-11-18T14:36:41.417925Z"
    }
   },
   "outputs": [
    {
     "name": "stdout",
     "output_type": "stream",
     "text": [
      "Withdraw: 8100 successfully.\n",
      "None\n",
      "your balance is 1900\n"
     ]
    }
   ],
   "source": [
    "def WithDraw(balance,amount):\n",
    "        if amount>balance:\n",
    "            print(\"Your Are So Poor :(\")\n",
    "        \n",
    "        elif amount <=0:\n",
    "            print(\"Invalid WithDraw\")\n",
    "            \n",
    "        else:\n",
    "            \n",
    "            balance -= amount\n",
    "            print(print(f\"Withdraw: {amount} successfully.\"))\n",
    "            print(f\"your balance is {balance}\")\n",
    "\n",
    "WithDraw(10000,8100)            "
   ]
  },
  {
   "cell_type": "markdown",
   "metadata": {},
   "source": [
    "# Finding Common Elements in Two Lists"
   ]
  },
  {
   "cell_type": "code",
   "execution_count": 4,
   "metadata": {
    "ExecuteTime": {
     "end_time": "2024-11-18T14:02:31.354071Z",
     "start_time": "2024-11-18T14:02:31.341830Z"
    }
   },
   "outputs": [
    {
     "name": "stdout",
     "output_type": "stream",
     "text": [
      "Common Elements:[4, 5]\n"
     ]
    }
   ],
   "source": [
    "def Common_Element_in_list(list1,list2):\n",
    "    common_elements = list(set(list1) & set(list2))\n",
    "    return common_elements\n",
    "\n",
    "list1 = [1, 2, 3, 4, 5]\n",
    "list2 = [4, 5, 6, 7, 8]\n",
    "common = Common_Element_in_list(list1, list2)\n",
    "print(f\"Common Elements:{common}\")   "
   ]
  },
  {
   "cell_type": "markdown",
   "metadata": {},
   "source": [
    "# Calculating Factorial of a Number"
   ]
  },
  {
   "cell_type": "markdown",
   "metadata": {},
   "source": []
  },
  {
   "cell_type": "code",
   "execution_count": 20,
   "metadata": {
    "ExecuteTime": {
     "end_time": "2024-11-18T14:45:15.925927Z",
     "start_time": "2024-11-18T14:45:13.397973Z"
    }
   },
   "outputs": [
    {
     "name": "stdout",
     "output_type": "stream",
     "text": [
      "Enter a number to calculate its factorial: 10\n",
      "The factorial of 10 is 3628800\n"
     ]
    }
   ],
   "source": [
    "def factorial(n):\n",
    "    if n < 0:\n",
    "        return \"Factorial is not defined for negative numbers.\"\n",
    "    result = 1\n",
    "    for i in range(1, n + 1):\n",
    "        result *= i\n",
    "    return result\n",
    "\n",
    "number = int(input(\"Enter a number to calculate its factorial: \"))\n",
    "print(f\"The factorial of {number} is {factorial(number)}\")\n"
   ]
  },
  {
   "cell_type": "markdown",
   "metadata": {},
   "source": [
    "# Validating User Input with While Loop"
   ]
  },
  {
   "cell_type": "code",
   "execution_count": 22,
   "metadata": {
    "ExecuteTime": {
     "end_time": "2024-11-18T14:49:06.688522Z",
     "start_time": "2024-11-18T14:49:00.156434Z"
    }
   },
   "outputs": [
    {
     "name": "stdout",
     "output_type": "stream",
     "text": [
      "Enter a non-negative integer: -19\n",
      "Please enter a non-negative number.\n",
      "Enter a non-negative integer: 10\n",
      "You entered a valid number: 10\n"
     ]
    }
   ],
   "source": [
    "def get_valid_number(prompt):\n",
    "    while True:\n",
    "        try:\n",
    "            number=int(input(prompt))\n",
    "            if number < 0:\n",
    "                 print(\"Please enter a non-negative number.\")\n",
    "            else:\n",
    "                return number\n",
    "            \n",
    "        except ValueError:\n",
    "            print(\"Invalid input. Please enter a valid integer.\")   \n",
    "            \n",
    "number = get_valid_number(\"Enter a non-negative integer: \")\n",
    "print(f\"You entered a valid number: {number}\")            "
   ]
  },
  {
   "cell_type": "markdown",
   "metadata": {},
   "source": []
  },
  {
   "cell_type": "markdown",
   "metadata": {},
   "source": [
    "# Finding the Sum of Digits of a Number"
   ]
  },
  {
   "cell_type": "code",
   "execution_count": 37,
   "metadata": {
    "ExecuteTime": {
     "end_time": "2024-11-18T15:16:41.241478Z",
     "start_time": "2024-11-18T15:16:38.485676Z"
    }
   },
   "outputs": [
    {
     "name": "stdout",
     "output_type": "stream",
     "text": [
      "Enter a number: 12345\n",
      "The sum of the digits of 12345 is 15\n"
     ]
    }
   ],
   "source": [
    "def sum_of_digits(number):\n",
    "    total = 0\n",
    "    for digit in str(abs(number)):  \n",
    "        total += int(digit)\n",
    "    return total\n",
    "\n",
    "number = int(input(\"Enter a number: \"))\n",
    "print(f\"The sum of the digits of {number} is {sum_of_digits(number)}\")\n"
   ]
  },
  {
   "cell_type": "markdown",
   "metadata": {},
   "source": []
  },
  {
   "cell_type": "markdown",
   "metadata": {},
   "source": [
    "# Checking for Palindrome Strings"
   ]
  },
  {
   "cell_type": "markdown",
   "metadata": {},
   "source": []
  },
  {
   "cell_type": "markdown",
   "metadata": {},
   "source": [
    "# Creating a Dictionary from Two Lists"
   ]
  },
  {
   "cell_type": "markdown",
   "metadata": {},
   "source": []
  },
  {
   "cell_type": "markdown",
   "metadata": {},
   "source": [
    "# Simulating a Simple Password Check"
   ]
  },
  {
   "cell_type": "markdown",
   "metadata": {},
   "source": []
  },
  {
   "cell_type": "markdown",
   "metadata": {},
   "source": [
    "# Generating a Multiplication Table for a Given Number"
   ]
  },
  {
   "cell_type": "markdown",
   "metadata": {},
   "source": []
  },
  {
   "cell_type": "markdown",
   "metadata": {},
   "source": [
    "# Calculating Average of Numbers Using Functions"
   ]
  },
  {
   "cell_type": "code",
   "execution_count": 29,
   "metadata": {
    "ExecuteTime": {
     "end_time": "2024-11-18T14:54:21.491906Z",
     "start_time": "2024-11-18T14:54:21.469315Z"
    }
   },
   "outputs": [
    {
     "data": {
      "text/plain": [
       "4.5"
      ]
     },
     "execution_count": 29,
     "metadata": {},
     "output_type": "execute_result"
    }
   ],
   "source": [
    "def Average(numbers):\n",
    "    count=0\n",
    "    totalsum=0\n",
    "    for i in range(numbers):\n",
    "        totalsum+=i\n",
    "        count+=1\n",
    "        if count > 0 :\n",
    "            result=( totalsum / count)\n",
    "            \n",
    "    return result\n",
    "\n",
    "Average(10)        "
   ]
  },
  {
   "cell_type": "markdown",
   "metadata": {},
   "source": [
    "# Finding the Longest Word in a List"
   ]
  },
  {
   "cell_type": "code",
   "execution_count": 30,
   "metadata": {
    "ExecuteTime": {
     "end_time": "2024-11-18T15:05:44.841294Z",
     "start_time": "2024-11-18T15:05:32.932896Z"
    }
   },
   "outputs": [
    {
     "name": "stdout",
     "output_type": "stream",
     "text": [
      "Enter words separated by spaces: basel wael samir ragheb ahmed mohammoud\n",
      "The longest word is: mohammoud\n"
     ]
    }
   ],
   "source": [
    "def find_longest_word(word_list):\n",
    "    if not word_list:\n",
    "        return \"The list is empty.\"\n",
    "    longest_word = max(word_list, key=len)\n",
    "    return longest_word\n",
    "\n",
    "words = input(\"Enter words separated by spaces: \").split()\n",
    "longest = find_longest_word(words)\n",
    "print(f\"The longest word is: {longest}\")"
   ]
  },
  {
   "cell_type": "markdown",
   "metadata": {},
   "source": []
  },
  {
   "cell_type": "markdown",
   "metadata": {},
   "source": [
    "# Checking if a Number is Prime"
   ]
  },
  {
   "cell_type": "markdown",
   "metadata": {},
   "source": []
  },
  {
   "cell_type": "markdown",
   "metadata": {},
   "source": [
    "# Converting Temperature Units"
   ]
  },
  {
   "cell_type": "code",
   "execution_count": 38,
   "metadata": {
    "ExecuteTime": {
     "end_time": "2024-11-18T15:18:07.027808Z",
     "start_time": "2024-11-18T15:17:56.487624Z"
    }
   },
   "outputs": [
    {
     "name": "stdout",
     "output_type": "stream",
     "text": [
      "Enter the temperature value: 32\n",
      "Enter the unit to convert from (C for Celsius, F for Fahrenheit, K for Kelvin): F\n",
      "Enter the unit to convert to (C for Celsius, F for Fahrenheit, K for Kelvin): C\n",
      "The converted temperature is 0.00 C\n"
     ]
    }
   ],
   "source": [
    "def convert_temperature(value, unit_from, unit_to):\n",
    "    if unit_from == \"C\" and unit_to == \"F\":\n",
    "        return value * 9/5 + 32\n",
    "    elif unit_from == \"C\" and unit_to == \"K\":\n",
    "        return value + 273.15\n",
    "    elif unit_from == \"F\" and unit_to == \"C\":\n",
    "        return (value - 32) * 5/9\n",
    "    elif unit_from == \"F\" and unit_to == \"K\":\n",
    "        return (value - 32) * 5/9 + 273.15\n",
    "    elif unit_from == \"K\" and unit_to == \"C\":\n",
    "        return value - 273.15\n",
    "    elif unit_from == \"K\" and unit_to == \"F\":\n",
    "        return (value - 273.15) * 9/5 + 32\n",
    "    else:\n",
    "        return \"Invalid conversion\"\n",
    "\n",
    "value = float(input(\"Enter the temperature value: \"))\n",
    "unit_from = input(\"Enter the unit to convert from (C for Celsius, F for Fahrenheit, K for Kelvin): \").upper()\n",
    "unit_to = input(\"Enter the unit to convert to (C for Celsius, F for Fahrenheit, K for Kelvin): \").upper()\n",
    "\n",
    "converted_value = convert_temperature(value, unit_from, unit_to)\n",
    "if isinstance(converted_value, str):\n",
    "    print(converted_value)\n",
    "else:\n",
    "    print(f\"The converted temperature is {converted_value:.2f} {unit_to}\")\n"
   ]
  },
  {
   "cell_type": "markdown",
   "metadata": {},
   "source": []
  },
  {
   "cell_type": "markdown",
   "metadata": {},
   "source": [
    "# Generating a List of Squares Using List Comprehension and Functions"
   ]
  },
  {
   "cell_type": "code",
   "execution_count": 41,
   "metadata": {
    "ExecuteTime": {
     "end_time": "2024-11-18T15:26:26.510012Z",
     "start_time": "2024-11-18T15:26:23.709875Z"
    }
   },
   "outputs": [
    {
     "name": "stdout",
     "output_type": "stream",
     "text": [
      "Enter a number to generate squares up to: 5\n",
      "The squares of numbers from 1 to 5 are: [1, 4, 9, 16, 25]\n"
     ]
    }
   ],
   "source": [
    "def generate_squares(n):\n",
    "    return [x**2 for x in range(1, n+1)]\n",
    "\n",
    "n = int(input(\"Enter a number to generate squares up to: \"))\n",
    "squares = generate_squares(n)\n",
    "print(f\"The squares of numbers from 1 to {n} are: {squares}\")\n"
   ]
  },
  {
   "cell_type": "markdown",
   "metadata": {},
   "source": []
  },
  {
   "cell_type": "markdown",
   "metadata": {},
   "source": [
    "# Converting a List of Strings to Uppercase"
   ]
  },
  {
   "cell_type": "code",
   "execution_count": 36,
   "metadata": {
    "ExecuteTime": {
     "end_time": "2024-11-18T15:12:38.548798Z",
     "start_time": "2024-11-18T15:12:28.797662Z"
    }
   },
   "outputs": [
    {
     "name": "stdout",
     "output_type": "stream",
     "text": [
      "Enter the string: basel wael samir ragheb ahmed kradyy\n",
      "['BASEL', 'WAEL', 'SAMIR', 'RAGHEB', 'AHMED', 'KRADYY']\n"
     ]
    }
   ],
   "source": [
    "def convert_to_uppercase(strings):\n",
    "    return[string.upper() for string in strings]\n",
    "\n",
    "strings= input(\"Enter the string: \").split()\n",
    "\n",
    "convert=convert_to_uppercase(strings)\n",
    "print(convert)"
   ]
  },
  {
   "cell_type": "markdown",
   "metadata": {},
   "source": []
  },
  {
   "cell_type": "markdown",
   "metadata": {},
   "source": [
    "# Calculating the Total Price Including Tax\n"
   ]
  },
  {
   "cell_type": "markdown",
   "metadata": {},
   "source": []
  },
  {
   "cell_type": "markdown",
   "metadata": {},
   "source": [
    "# Finding the Minimum and Maximum Values in a List"
   ]
  },
  {
   "cell_type": "code",
   "execution_count": 39,
   "metadata": {
    "ExecuteTime": {
     "end_time": "2024-11-18T15:18:53.228533Z",
     "start_time": "2024-11-18T15:18:43.535777Z"
    }
   },
   "outputs": [
    {
     "name": "stdout",
     "output_type": "stream",
     "text": [
      "Enter numbers separated by spaces: 10 20 30 40 50 \n",
      "Minimum value: 10\n",
      "Maximum value: 50\n"
     ]
    }
   ],
   "source": [
    "def find_min_and_max(values):\n",
    "    if not values:\n",
    "        return \"The list is empty.\"\n",
    "    return min(values), max(values)\n",
    "\n",
    "values = list(map(int, input(\"Enter numbers separated by spaces: \").split()))\n",
    "result = find_min_and_max(values)\n",
    "\n",
    "if isinstance(result, str):\n",
    "    print(result)\n",
    "else:\n",
    "    minimum, maximum = result\n",
    "    print(f\"Minimum value: {minimum}\")\n",
    "    print(f\"Maximum value: {maximum}\")\n"
   ]
  },
  {
   "cell_type": "markdown",
   "metadata": {},
   "source": []
  },
  {
   "cell_type": "markdown",
   "metadata": {},
   "source": [
    "# Checking if a String is a Valid Email Address"
   ]
  },
  {
   "cell_type": "markdown",
   "metadata": {},
   "source": []
  },
  {
   "cell_type": "markdown",
   "metadata": {},
   "source": [
    "# Counting the Frequency of Each Character in a String"
   ]
  },
  {
   "cell_type": "markdown",
   "metadata": {},
   "source": []
  }
 ],
 "metadata": {
  "kernelspec": {
   "display_name": "Python 3 (ipykernel)",
   "language": "python",
   "name": "python3"
  },
  "language_info": {
   "codemirror_mode": {
    "name": "ipython",
    "version": 3
   },
   "file_extension": ".py",
   "mimetype": "text/x-python",
   "name": "python",
   "nbconvert_exporter": "python",
   "pygments_lexer": "ipython3",
   "version": "3.11.5"
  }
 },
 "nbformat": 4,
 "nbformat_minor": 4
}
